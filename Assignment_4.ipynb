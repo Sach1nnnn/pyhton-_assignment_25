{
 "cells": [
  {
   "cell_type": "markdown",
   "id": "55f2e6a8-40e4-4b3e-8c0a-167ce391cd23",
   "metadata": {},
   "source": [
    "# Q_NO_1"
   ]
  },
  {
   "cell_type": "markdown",
   "id": "2c403585-ec34-4d14-ac8a-5bbcd26edfd6",
   "metadata": {},
   "source": [
    "# write a python program to find the factorial of a number ? "
   ]
  },
  {
   "cell_type": "code",
   "execution_count": 18,
   "id": "3dfd5084-f58d-4c1d-a83e-8c93a028fed1",
   "metadata": {},
   "outputs": [],
   "source": []
  },
  {
   "cell_type": "code",
   "execution_count": 5,
   "id": "8d120783-f050-420e-9979-e886768cfe59",
   "metadata": {},
   "outputs": [
    {
     "name": "stdin",
     "output_type": "stream",
     "text": [
      "Enter the number:  43\n"
     ]
    },
    {
     "name": "stdout",
     "output_type": "stream",
     "text": [
      "The Factorial is 60415263063373835637355132068513997507264512000000000\n"
     ]
    }
   ],
   "source": [
    "def find_factorial():\n",
    "    try:\n",
    "        num = int(input(\"Enter the number: \"))\n",
    "        factorial = 1\n",
    "        for i in range(1, num + 1):\n",
    "            factorial *= i\n",
    "        return factorial\n",
    "    except ValueError:\n",
    "        return \"Invalid Input, Please enter numerical value \"\n",
    "\n",
    "result = find_factorial()\n",
    "print(\"The Factorial is\", result)"
   ]
  },
  {
   "cell_type": "code",
   "execution_count": 13,
   "id": "a3bdf82c-6dad-4fbb-8054-e75a7455f486",
   "metadata": {},
   "outputs": [
    {
     "data": {
      "text/plain": [
       "3628800"
      ]
     },
     "execution_count": 13,
     "metadata": {},
     "output_type": "execute_result"
    }
   ],
   "source": [
    "import math\n",
    "math.factorial(10)"
   ]
  },
  {
   "cell_type": "code",
   "execution_count": null,
   "id": "2f86a19c-5c1f-452a-895d-00d733b749ba",
   "metadata": {},
   "outputs": [],
   "source": []
  },
  {
   "cell_type": "markdown",
   "id": "d81fe142-b188-4f49-808d-da1dc3bfdb39",
   "metadata": {},
   "source": [
    "# Q_no_2"
   ]
  },
  {
   "cell_type": "markdown",
   "id": "045f210f-bd58-4fe2-9a90-c945e75a0a79",
   "metadata": {},
   "source": [
    "# write a python program to display the multiplication table ? "
   ]
  },
  {
   "cell_type": "code",
   "execution_count": 3,
   "id": "ae17fda0-fba6-4ca7-ba8e-c072349cffb1",
   "metadata": {},
   "outputs": [
    {
     "name": "stdin",
     "output_type": "stream",
     "text": [
      "Enter a number:  25\n"
     ]
    },
    {
     "name": "stdout",
     "output_type": "stream",
     "text": [
      "25 x 1 = 25\n",
      "25 x 2 = 50\n",
      "25 x 3 = 75\n",
      "25 x 4 = 100\n",
      "25 x 5 = 125\n",
      "25 x 6 = 150\n",
      "25 x 7 = 175\n",
      "25 x 8 = 200\n",
      "25 x 9 = 225\n",
      "25 x 10 = 250\n"
     ]
    }
   ],
   "source": [
    "def table(number):\n",
    "    for i in range(1, 11):\n",
    "        print(f\"{number} x {i} = {number * i}\")\n",
    "\n",
    "if __name__ == \"__main__\":\n",
    "    try:\n",
    "        number = int(input(\"Enter a number: \"))\n",
    "        table(number)\n",
    "    except Exception as e:\n",
    "        print(\"Only numbers are allowed.\", e)\n"
   ]
  },
  {
   "cell_type": "markdown",
   "id": "01de6bb6-5efe-4d74-a03a-6f5a8eacb3b2",
   "metadata": {},
   "source": [
    "# Q_NO_3"
   ]
  },
  {
   "cell_type": "markdown",
   "id": "2cfef30e-d9e1-487b-a7a9-c6a3e4fee715",
   "metadata": {},
   "source": [
    "# write a python program to print the fibonacci sequence ?"
   ]
  },
  {
   "cell_type": "code",
   "execution_count": 53,
   "id": "2284385c-78c3-4924-9663-8e77b425fbe7",
   "metadata": {},
   "outputs": [
    {
     "name": "stdin",
     "output_type": "stream",
     "text": [
      "Enter the number 12\n"
     ]
    },
    {
     "name": "stdout",
     "output_type": "stream",
     "text": [
      "0\n",
      "1\n",
      "1\n",
      "2\n",
      "3\n",
      "5\n",
      "8\n",
      "13\n",
      "21\n",
      "34\n",
      "55\n",
      "89\n"
     ]
    }
   ],
   "source": [
    "def fibonacci():\n",
    "    num = int(input(\"Enter the number\"))\n",
    "    a,b = 0,1\n",
    "    print(a)\n",
    "    print(b)\n",
    "    for i in range(2,num):\n",
    "        c = a + b\n",
    "        print(c)\n",
    "        a,b = b,c\n",
    "       \n",
    "fibonacci()"
   ]
  },
  {
   "cell_type": "code",
   "execution_count": null,
   "id": "4c2cc0df-9ec6-4ee9-9765-9105809ddd00",
   "metadata": {},
   "outputs": [],
   "source": []
  },
  {
   "cell_type": "markdown",
   "id": "e5aad6f2-6529-4f99-b0c9-ba174960cf37",
   "metadata": {},
   "source": [
    "# Q_NO 4. "
   ]
  },
  {
   "cell_type": "markdown",
   "id": "927044be-eb62-4e32-9260-90df35b318f3",
   "metadata": {},
   "source": [
    "# write a python program to check armstrong number ? "
   ]
  },
  {
   "cell_type": "code",
   "execution_count": 12,
   "id": "2d11a11a-fc67-447c-8e2b-a0c600a98f39",
   "metadata": {},
   "outputs": [
    {
     "name": "stdin",
     "output_type": "stream",
     "text": [
      "Enter your number:  153\n"
     ]
    },
    {
     "name": "stdout",
     "output_type": "stream",
     "text": [
      "This is an Armstrong number\n"
     ]
    }
   ],
   "source": [
    "number = input(\"Enter your number: \") \n",
    "power = len(number)\n",
    "new_total = sum(int(item) ** power for item in number) \n",
    "\n",
    "if new_total == int(number):\n",
    "    print(\"This is an Armstrong number\")\n",
    "else:\n",
    "    print(\"This is not an Armstrong number\")\n"
   ]
  },
  {
   "cell_type": "code",
   "execution_count": null,
   "id": "73e28653-e23f-41eb-b480-4d2f411e9507",
   "metadata": {},
   "outputs": [],
   "source": []
  },
  {
   "cell_type": "markdown",
   "id": "56d0007a-f8da-4ac3-bed2-4996887e65a1",
   "metadata": {},
   "source": [
    "# Q_NO _5\n"
   ]
  },
  {
   "cell_type": "markdown",
   "id": "2d67d829-f189-4325-b157-09e8d5ab5432",
   "metadata": {},
   "source": [
    "# write a python program to find armstrong number in an interval ?"
   ]
  },
  {
   "cell_type": "code",
   "execution_count": 34,
   "id": "cd994c2a-6f3d-4040-9f8a-3b9beb6da2cf",
   "metadata": {},
   "outputs": [
    {
     "name": "stdin",
     "output_type": "stream",
     "text": [
      "Enter the start of the interval:  10\n",
      "Enter the end of the interval:  23\n"
     ]
    },
    {
     "name": "stdout",
     "output_type": "stream",
     "text": [
      "Armstrong numbers between 10 and 23 are: [10, 11, 12, 13, 14, 15, 16, 17, 18, 19, 20, 21, 22, 23]\n"
     ]
    }
   ],
   "source": [
    "def is_armstrong(number):\n",
    "    power = len(str(number))\n",
    "    return sum(int(digit) ** power for digit in str(number)) == number\n",
    "\n",
    "def find_armstrong_in_interval(start, end):\n",
    "    return [num for num in range(start, end + 1) ]\n",
    "\n",
    "start = int(input(\"Enter the start of the interval: \"))\n",
    "end = int(input(\"Enter the end of the interval: \"))\n",
    "\n",
    "armstrong_numbers = find_armstrong_in_interval(start, end)\n",
    "print(\"Armstrong numbers between\", start, \"and\", end, \"are:\", armstrong_numbers)\n"
   ]
  },
  {
   "cell_type": "markdown",
   "id": "c60445ca-5acf-4024-af44-d3aaa6ff554f",
   "metadata": {},
   "source": [
    "# Q_NO_6\n"
   ]
  },
  {
   "cell_type": "markdown",
   "id": "ebc0988f-ecc6-40f0-a5db-b13412efa3db",
   "metadata": {},
   "source": [
    "# write a python program to find the sum of natural numbers ? "
   ]
  },
  {
   "cell_type": "code",
   "execution_count": 60,
   "id": "dde9a7e9-fa3a-41b4-a92a-70dcaef89b63",
   "metadata": {},
   "outputs": [
    {
     "name": "stdin",
     "output_type": "stream",
     "text": [
      "Enter the number of natural numbers:  32\n"
     ]
    },
    {
     "name": "stdout",
     "output_type": "stream",
     "text": [
      "The sum of the first 32 natural numbers is: 528\n"
     ]
    }
   ],
   "source": [
    "def sum_natural_numbers(num):\n",
    "    total = sum(range(1, num + 1))\n",
    "    return total\n",
    "\n",
    "num = int(input(\"Enter the number of natural numbers: \"))\n",
    "\n",
    "print(\"The sum of the first\", num, \"natural numbers is:\", sum_natural_numbers(num))\n"
   ]
  },
  {
   "cell_type": "code",
   "execution_count": null,
   "id": "f515b024-db33-457c-8f1b-d7d30bdf34e9",
   "metadata": {},
   "outputs": [],
   "source": []
  }
 ],
 "metadata": {
  "kernelspec": {
   "display_name": "Python 3 (ipykernel)",
   "language": "python",
   "name": "python3"
  },
  "language_info": {
   "codemirror_mode": {
    "name": "ipython",
    "version": 3
   },
   "file_extension": ".py",
   "mimetype": "text/x-python",
   "name": "python",
   "nbconvert_exporter": "python",
   "pygments_lexer": "ipython3",
   "version": "3.12.7"
  }
 },
 "nbformat": 4,
 "nbformat_minor": 5
}
