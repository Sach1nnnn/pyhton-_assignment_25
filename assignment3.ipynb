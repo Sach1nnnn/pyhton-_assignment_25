{
 "cells": [
  {
   "cell_type": "markdown",
   "id": "e5a90992-6949-49f5-8307-ed603d0f44f6",
   "metadata": {},
   "source": [
    "#  Q NO.1 - write a python program to check if a number is positive , negative or zero ? "
   ]
  },
  {
   "cell_type": "code",
   "execution_count": 17,
   "id": "b66d5e3a-4c4e-4585-b4d2-7fe57477c41c",
   "metadata": {},
   "outputs": [
    {
     "name": "stdin",
     "output_type": "stream",
     "text": [
      "Enter your number:  25\n"
     ]
    },
    {
     "name": "stdout",
     "output_type": "stream",
     "text": [
      "positive\n"
     ]
    }
   ],
   "source": [
    "def number_checker(number):\n",
    "    if number > 0:\n",
    "        return \"positive\"\n",
    "    if number < 0:\n",
    "        return \"negative\"\n",
    "    if number == 0:\n",
    "        return \"number is zero\"\n",
    "\n",
    "try:\n",
    "    number = int(input(\"Enter your number: \"))\n",
    "    result = number_checker(number)\n",
    "    print(result)\n",
    "except Exception as e:\n",
    "    print(\"Only numbers are allowed.\", e)\n"
   ]
  },
  {
   "cell_type": "code",
   "execution_count": null,
   "id": "1126ca07-73da-4b7f-a6f7-d0a7e88b76c9",
   "metadata": {},
   "outputs": [],
   "source": []
  },
  {
   "cell_type": "markdown",
   "id": "e6ee18fc-62c9-4c1a-8606-f89a81e75964",
   "metadata": {},
   "source": [
    "# Q NO-2 writre a pyhton program to check if a number is odd or even ?"
   ]
  },
  {
   "cell_type": "code",
   "execution_count": 30,
   "id": "ae6ed53f-b529-444d-9ea4-72ea9750e871",
   "metadata": {},
   "outputs": [
    {
     "name": "stdin",
     "output_type": "stream",
     "text": [
      "Enter a number:  6\n"
     ]
    },
    {
     "name": "stdout",
     "output_type": "stream",
     "text": [
      "even\n"
     ]
    }
   ],
   "source": [
    "def check_even_or_odd(num):\n",
    "    try:\n",
    "        if num % 2 == 0:\n",
    "            return \"even\"\n",
    "        else:\n",
    "            return \"odd\"\n",
    "    except ValueError:\n",
    "        return \"only numbers are allowed\"\n",
    "\n",
    "try:\n",
    "    number = int(input(\"Enter a number: \"))\n",
    "    result = check_even_or_odd(number)\n",
    "    print(result)\n",
    "except ValueError:\n",
    "    print(\"Only numbers are allowed\")\n"
   ]
  },
  {
   "cell_type": "code",
   "execution_count": null,
   "id": "4fda3f57-2309-4e97-a6c5-c5b2edc2a791",
   "metadata": {},
   "outputs": [],
   "source": []
  },
  {
   "cell_type": "markdown",
   "id": "b803a9ef-aed3-494c-abc6-f11795ce172a",
   "metadata": {},
   "source": [
    "#  Q NO-3 write pyhon code to find leap year ?"
   ]
  },
  {
   "cell_type": "code",
   "execution_count": 39,
   "id": "c83e3e94-e818-4802-9846-f4be20aac422",
   "metadata": {},
   "outputs": [
    {
     "name": "stdin",
     "output_type": "stream",
     "text": [
      "Enter the year:  1002\n"
     ]
    },
    {
     "data": {
      "text/plain": [
       "' not a leap year'"
      ]
     },
     "execution_count": 39,
     "metadata": {},
     "output_type": "execute_result"
    }
   ],
   "source": [
    "def check_leap_year ():\n",
    "    try:\n",
    "        year = int(input(\"Enter the year: \"))\n",
    "        if (year % 4 == 0 and year % 100 != 0) or (year % 400 == 0):\n",
    "            return \"leap year\"\n",
    "\n",
    "        else : \n",
    "            return \" not a leap year\"\n",
    "    except valueEror :\n",
    "        print(\"Only numbers are allowed\")\n",
    "\n",
    "check_leap_year()"
   ]
  },
  {
   "cell_type": "markdown",
   "id": "ce6a555c-45b8-4e5e-9b7f-0c3429267b13",
   "metadata": {},
   "source": [
    "# Q NO_4 write a pyhon program to find prime numbers ?"
   ]
  },
  {
   "cell_type": "code",
   "execution_count": 72,
   "id": "40698719-9705-4e62-967a-92f3b8aee9d4",
   "metadata": {},
   "outputs": [
    {
     "name": "stdin",
     "output_type": "stream",
     "text": [
      "enter your number 34\n"
     ]
    },
    {
     "name": "stdout",
     "output_type": "stream",
     "text": [
      "5.830951894845301\n",
      "5\n",
      "Prime number\n"
     ]
    }
   ],
   "source": [
    "import math \n",
    "\n",
    "number = int(input(\"enter your number\"))\n",
    "\n",
    "sqrt_number = math.sqrt(number)\n",
    "print(sqrt_number)\n",
    "\n",
    "number = int(sqrt_number)\n",
    "print(number)\n",
    "\n",
    "for i in range(2, number):\n",
    "    if number % i == 0:\n",
    "        print(\"Not a prime number\")\n",
    "        break\n",
    "else:\n",
    "    print(\"Prime number\")\n"
   ]
  },
  {
   "cell_type": "code",
   "execution_count": 93,
   "id": "5c319f7b-18a5-491a-82f9-9d4e794c49c8",
   "metadata": {},
   "outputs": [
    {
     "name": "stdin",
     "output_type": "stream",
     "text": [
      "Enter a number:  kunal boss\n"
     ]
    },
    {
     "data": {
      "text/plain": [
       "'Only numbers are allowed'"
      ]
     },
     "execution_count": 93,
     "metadata": {},
     "output_type": "execute_result"
    }
   ],
   "source": [
    "import math\n",
    "\n",
    "def check_prime_number():\n",
    "    try:\n",
    "        num = int(input(\"Enter a number: \"))\n",
    "        if num <= 1:\n",
    "            return \"Not a prime number\"\n",
    "        for i in range(2, int(math.sqrt(num)) + 1):\n",
    "            if num % i == 0:\n",
    "                return \"Not a prime number\"\n",
    "        \n",
    "        return \"Prime number\"\n",
    "    except ValueError:\n",
    "        return \"Only numbers are allowed\"\n",
    "check_prime_number()"
   ]
  },
  {
   "cell_type": "code",
   "execution_count": null,
   "id": "f8d11010-77ff-4d96-b145-1ef96e4f60e8",
   "metadata": {},
   "outputs": [],
   "source": []
  },
  {
   "cell_type": "markdown",
   "id": "1617052c-4429-4ef4-b789-da23dadfda9d",
   "metadata": {},
   "source": [
    "# Q NO _5 write a pyhton program to  print all prime numbers in interval (of 1-1000)"
   ]
  },
  {
   "cell_type": "code",
   "execution_count": 104,
   "id": "c76e87a0-34ab-4f61-971e-2a2adfd8a4bb",
   "metadata": {},
   "outputs": [
    {
     "ename": "TypeError",
     "evalue": "list expected at most 1 argument, got 2",
     "output_type": "error",
     "traceback": [
      "\u001b[1;31m---------------------------------------------------------------------------\u001b[0m",
      "\u001b[1;31mTypeError\u001b[0m                                 Traceback (most recent call last)",
      "Cell \u001b[1;32mIn[104], line 9\u001b[0m\n\u001b[0;32m      6\u001b[0m             \u001b[38;5;28;01mreturn\u001b[39;00m \u001b[38;5;28;01mFalse\u001b[39;00m\n\u001b[0;32m      7\u001b[0m     \u001b[38;5;28;01mreturn\u001b[39;00m \u001b[38;5;28;01mTrue\u001b[39;00m\n\u001b[1;32m----> 9\u001b[0m \u001b[38;5;28;01mfor\u001b[39;00m number \u001b[38;5;129;01min\u001b[39;00m \u001b[38;5;28mrange\u001b[39m(\u001b[38;5;28mlist\u001b[39m(\u001b[38;5;241m1\u001b[39m, \u001b[38;5;241m1001\u001b[39m)):\n\u001b[0;32m     10\u001b[0m     \u001b[38;5;28;01mif\u001b[39;00m is_prime(number):\n\u001b[0;32m     11\u001b[0m         \u001b[38;5;28mprint\u001b[39m(number)\n",
      "\u001b[1;31mTypeError\u001b[0m: list expected at most 1 argument, got 2"
     ]
    }
   ],
   "source": [
    "def is_prime(num):\n",
    "    if num <= 1:\n",
    "        return False\n",
    "    for i in range(2, int(num**0.5) + 1):\n",
    "        if num % i == 0:\n",
    "            return False\n",
    "    return True\n",
    "\n",
    "for number in range(list(1, 1001)):\n",
    "    if is_prime(number):\n",
    "        print(number)"
   ]
  },
  {
   "cell_type": "code",
   "execution_count": null,
   "id": "e00b64bc-5f29-4425-912e-be76af90c9dc",
   "metadata": {},
   "outputs": [],
   "source": []
  }
 ],
 "metadata": {
  "kernelspec": {
   "display_name": "Python 3 (ipykernel)",
   "language": "python",
   "name": "python3"
  },
  "language_info": {
   "codemirror_mode": {
    "name": "ipython",
    "version": 3
   },
   "file_extension": ".py",
   "mimetype": "text/x-python",
   "name": "python",
   "nbconvert_exporter": "python",
   "pygments_lexer": "ipython3",
   "version": "3.12.7"
  }
 },
 "nbformat": 4,
 "nbformat_minor": 5
}
