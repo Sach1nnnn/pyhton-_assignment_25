{
 "cells": [
  {
   "cell_type": "markdown",
   "id": "3526d3ee-9381-4528-b782-9e950a4b0ec0",
   "metadata": {},
   "source": [
    "# ASSIGNMENT_1:-"
   ]
  },
  {
   "cell_type": "code",
   "execution_count": null,
   "id": "b85f2157-8b0b-4e41-9f4e-edbb25652922",
   "metadata": {},
   "outputs": [],
   "source": [
    "1.\tWrite a Python program to print \"Hello Python\"?\n",
    "2.\tWrite a Python program to do arithmetical operations addition and division.?\n",
    "3.\tWrite a Python program to find the area of a triangle?\n",
    "4.\tWrite a Python program to swap two variables?\n",
    "5.\tWrite a Python program to generate a random number?"
   ]
  },
  {
   "cell_type": "code",
   "execution_count": null,
   "id": "e94d6e76-4702-43d0-b020-2c5d30f9834d",
   "metadata": {},
   "outputs": [],
   "source": []
  },
  {
   "cell_type": "markdown",
   "id": "315b5769-7d2d-4d93-9307-a69bbda8f085",
   "metadata": {},
   "source": [
    "# 3 . WRITE A PYTHON PROGRAM TO FIND AREA OF A TRIANGLE ? "
   ]
  },
  {
   "cell_type": "code",
   "execution_count": 5,
   "id": "6322e4e8-b68d-400b-89c2-f840440a190b",
   "metadata": {},
   "outputs": [
    {
     "name": "stdin",
     "output_type": "stream",
     "text": [
      "Enter the value of base :  20\n",
      "Enter the value of height :  20\n"
     ]
    },
    {
     "name": "stdout",
     "output_type": "stream",
     "text": [
      "200.0\n"
     ]
    }
   ],
   "source": [
    "a = int(input(\"Enter the value of base : \"))\n",
    "b = int(input(\"Enter the value of height : \"))\n",
    "area = 1/2*a*b\n",
    "print(area)"
   ]
  },
  {
   "cell_type": "code",
   "execution_count": null,
   "id": "552b052d-c0e7-4957-9993-538a6e1d1672",
   "metadata": {},
   "outputs": [],
   "source": []
  },
  {
   "cell_type": "markdown",
   "id": "acd86054-22b1-4d5a-adf5-3feafad6390b",
   "metadata": {},
   "source": [
    "# 4. WRITE A PYTHON PROGRAM TO SWAP TWO VARIABLES ? "
   ]
  },
  {
   "cell_type": "code",
   "execution_count": 11,
   "id": "70c868f6-882b-486b-a4d0-7d194b3dacc3",
   "metadata": {},
   "outputs": [
    {
     "name": "stdout",
     "output_type": "stream",
     "text": [
      "30\n",
      "50\n"
     ]
    }
   ],
   "source": [
    "kunal = 50\n",
    "sachin = 30\n",
    "\n",
    "kunal,sachin = sachin,kunal\n",
    "\n",
    "print(kunal)\n",
    "print(sachin)"
   ]
  },
  {
   "cell_type": "code",
   "execution_count": null,
   "id": "ea76f09b-c9cd-4b27-8a87-0beb17987072",
   "metadata": {},
   "outputs": [],
   "source": []
  },
  {
   "cell_type": "markdown",
   "id": "e548325d-5730-4eda-ada3-23e67219eedf",
   "metadata": {},
   "source": [
    "# 5.WRITE A PYTHON PROGRAM TO GENARATE A RANDOM NUMBER ?"
   ]
  },
  {
   "cell_type": "code",
   "execution_count": 23,
   "id": "6df6be02-1b70-4ec1-93ba-ce213ed6f13f",
   "metadata": {},
   "outputs": [
    {
     "name": "stdout",
     "output_type": "stream",
     "text": [
      " random number is : 4442\n"
     ]
    }
   ],
   "source": [
    "import random\n",
    "\n",
    "random_number = random.randint(2000,5060)\n",
    "\n",
    "print(f\" random number is : {random_number}\")"
   ]
  },
  {
   "cell_type": "code",
   "execution_count": null,
   "id": "9e4e972d-30da-407f-9f3c-4b92fcfb10b3",
   "metadata": {},
   "outputs": [],
   "source": []
  },
  {
   "cell_type": "code",
   "execution_count": 43,
   "id": "3788b74b-fc52-4772-8050-4899363a2568",
   "metadata": {},
   "outputs": [
    {
     "data": {
      "text/plain": [
       "61"
      ]
     },
     "execution_count": 43,
     "metadata": {},
     "output_type": "execute_result"
    }
   ],
   "source": [
    "import random\n",
    "random.randrange(1,100,5)"
   ]
  },
  {
   "cell_type": "markdown",
   "id": "dd66e03c-20fd-4228-adfb-54f0a10e8796",
   "metadata": {},
   "source": [
    "# 1. WRITE A PYTHON PROGRAM TO PRINT \" HELLO PYTHON\" ? "
   ]
  },
  {
   "cell_type": "code",
   "execution_count": 48,
   "id": "e3f3faa1-aff4-4aec-8e21-82e2d1d81a63",
   "metadata": {},
   "outputs": [
    {
     "name": "stdout",
     "output_type": "stream",
     "text": [
      "hello python\n"
     ]
    }
   ],
   "source": [
    "print(\"hello python\")"
   ]
  },
  {
   "cell_type": "code",
   "execution_count": null,
   "id": "94cf84c9-c8f5-4fae-889f-e585e0a41e50",
   "metadata": {},
   "outputs": [],
   "source": []
  },
  {
   "cell_type": "markdown",
   "id": "098087d8-0574-4bd5-874e-539650fb55b0",
   "metadata": {},
   "source": [
    "# . 2 Write a Python program to do arithmetical operations addition and division.?"
   ]
  },
  {
   "cell_type": "code",
   "execution_count": null,
   "id": "1d6047ee-81a8-41f4-8903-64d446441e5e",
   "metadata": {},
   "outputs": [],
   "source": []
  },
  {
   "cell_type": "code",
   "execution_count": 51,
   "id": "43151481-1a1a-49fc-ba61-797f3b03f575",
   "metadata": {},
   "outputs": [
    {
     "name": "stdin",
     "output_type": "stream",
     "text": [
      "Enter the first number 5\n",
      "Enter the second number 2\n"
     ]
    },
    {
     "name": "stdout",
     "output_type": "stream",
     "text": [
      "7.0\n"
     ]
    }
   ],
   "source": [
    "# addition\n",
    "\n",
    "a = float(input(\"Enter the first number\"))\n",
    "b = float(input(\"Enter the second number\"))\n",
    "\n",
    "print(a+b)"
   ]
  },
  {
   "cell_type": "code",
   "execution_count": 53,
   "id": "418a00f2-26fc-47c7-9c47-3efe7dc505b1",
   "metadata": {},
   "outputs": [
    {
     "name": "stdin",
     "output_type": "stream",
     "text": [
      "Enter the first number 10\n",
      "Enter the second number 2\n"
     ]
    },
    {
     "name": "stdout",
     "output_type": "stream",
     "text": [
      "5.0\n"
     ]
    }
   ],
   "source": [
    "# division\n",
    "\n",
    "a = float(input(\"Enter the first number\"))\n",
    "b = float(input(\"Enter the second number\"))\n",
    "\n",
    "print(a/b)"
   ]
  },
  {
   "cell_type": "code",
   "execution_count": null,
   "id": "38bb1ff5-1671-4fb3-adc5-723e9051c661",
   "metadata": {},
   "outputs": [],
   "source": []
  }
 ],
 "metadata": {
  "kernelspec": {
   "display_name": "Python 3 (ipykernel)",
   "language": "python",
   "name": "python3"
  },
  "language_info": {
   "codemirror_mode": {
    "name": "ipython",
    "version": 3
   },
   "file_extension": ".py",
   "mimetype": "text/x-python",
   "name": "python",
   "nbconvert_exporter": "python",
   "pygments_lexer": "ipython3",
   "version": "3.12.7"
  }
 },
 "nbformat": 4,
 "nbformat_minor": 5
}
