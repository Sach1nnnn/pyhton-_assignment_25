{
 "cells": [
  {
   "cell_type": "markdown",
   "id": "a36e4273-dee3-4c33-a2de-40ff15562500",
   "metadata": {},
   "source": [
    "# Question 1"
   ]
  },
  {
   "cell_type": "code",
   "execution_count": 8,
   "id": "c21073dc-f306-47b1-817f-1f6a641e3c93",
   "metadata": {},
   "outputs": [
    {
     "name": "stdin",
     "output_type": "stream",
     "text": [
      "Enter the distance in kilometers:  6\n"
     ]
    },
    {
     "name": "stdout",
     "output_type": "stream",
     "text": [
      "6.0 kilometers is equal to 3.7282260000000003 miles.\n"
     ]
    }
   ],
   "source": [
    "# write a python program to covert kilometers to miles ?\n",
    "\n",
    "def kilometers_to_miles(km):\n",
    "    # Conversion factor = 0.621371 this variable is a constant that represents the number of miles in one kilometers\n",
    "    \n",
    "    conversion_factor = 0.621371\n",
    "    # Calculate miles\n",
    "    miles = km * conversion_factor\n",
    "    return miles\n",
    "    \n",
    "kilometers = float(input(\"Enter the distance in kilometers: \"))\n",
    "\n",
    "miles = kilometers_to_miles(kilometers)\n",
    "\n",
    "print(f\"{kilometers} kilometers is equal to {miles} miles.\")\n",
    "\n"
   ]
  },
  {
   "cell_type": "code",
   "execution_count": 15,
   "id": "cdf644f3-36b3-4802-a00c-88d49bbf0deb",
   "metadata": {},
   "outputs": [
    {
     "name": "stdin",
     "output_type": "stream",
     "text": [
      "Enter the distance in Kilometers :  3\n"
     ]
    },
    {
     "name": "stdout",
     "output_type": "stream",
     "text": [
      "3.0 kilometers is equal to 1.8641130000000001 miles.\n"
     ]
    }
   ],
   "source": [
    "conversion_factor = 0.621371\n",
    "# calculate miles\n",
    "miles = kilometers * conversion_factor\n",
    "\n",
    "kilometers = float(input(\"Enter the distance in Kilometers : \"))\n",
    "\n",
    "miles = kilometers_to_miles(kilometers)\n",
    "\n",
    "print(f\"{kilometers} kilometers is equal to {miles} miles.\")"
   ]
  },
  {
   "cell_type": "code",
   "execution_count": null,
   "id": "b3f5d44e-43fc-4539-ab3e-37b25e102198",
   "metadata": {},
   "outputs": [],
   "source": []
  },
  {
   "cell_type": "markdown",
   "id": "e3a5b0c7-a430-46ec-bce5-c225af8241b6",
   "metadata": {},
   "source": [
    "# Question 2 "
   ]
  },
  {
   "cell_type": "code",
   "execution_count": 22,
   "id": "10aeeab8-f272-4252-89b9-468b60b08e7b",
   "metadata": {},
   "outputs": [
    {
     "name": "stdin",
     "output_type": "stream",
     "text": [
      "Enter temprature in fahrenheit :  5\n"
     ]
    },
    {
     "name": "stdout",
     "output_type": "stream",
     "text": [
      "5.0 fahrenhiet is eual to -15.0 celcius .\n"
     ]
    }
   ],
   "source": [
    "# write a pyhton program to convert celsius to fahrenheit ?\n",
    "\n",
    "\n",
    "def fahrenheit_to_celsius(fahrenheit):\n",
    "    return (fahrenheit-32) * 5/9\n",
    "\n",
    "fahrenheit = float(input(\"Enter temprature in fahrenheit : \"))\n",
    "celsius = fahrenheit_to_celsius(fahrenheit)\n",
    "print(f\"{fahrenheit} fahrenhiet is eual to {celsius} celcius .\")"
   ]
  },
  {
   "cell_type": "code",
   "execution_count": null,
   "id": "2d789b89-50c5-47e2-9ed6-4844b8d95d2d",
   "metadata": {},
   "outputs": [],
   "source": []
  },
  {
   "cell_type": "markdown",
   "id": "9fc68b01-b1f7-4d04-8c6c-7025b9876633",
   "metadata": {},
   "source": [
    "# Question 3 "
   ]
  },
  {
   "cell_type": "code",
   "execution_count": 4,
   "id": "3b1a6a9d-e08f-4bcc-8154-4f6c5bf2cfc3",
   "metadata": {},
   "outputs": [
    {
     "name": "stdin",
     "output_type": "stream",
     "text": [
      "Enter year:  2022\n",
      "Enter the month (1-12):  7\n"
     ]
    },
    {
     "name": "stdout",
     "output_type": "stream",
     "text": [
      "     July 2022\n",
      "Su Mo Tu We Th Fr Sa\n",
      "                1  2\n",
      " 3  4  5  6  7  8  9\n",
      "10 11 12 13 14 15 16\n",
      "17 18 19 20 21 22 23\n",
      "24 25 26 27 28 29 30\n",
      "31\n",
      "\n"
     ]
    }
   ],
   "source": [
    "import calendar  \n",
    "\n",
    "year = int(input(\"Enter year: \"))\n",
    "month = int(input(\"Enter the month (1-12): \"))\n",
    "\n",
    "cal = calendar.TextCalendar(calendar.SUNDAY)  \n",
    "cal_str = cal.formatmonth(year, month)\n",
    "\n",
    "print(cal_str)\n"
   ]
  },
  {
   "cell_type": "code",
   "execution_count": 6,
   "id": "c7edbb0e-4411-483d-8148-eefd551d687d",
   "metadata": {},
   "outputs": [
    {
     "name": "stdin",
     "output_type": "stream",
     "text": [
      "Enter the year :  2024\n",
      "Enter the month (1-12):  7\n"
     ]
    },
    {
     "name": "stdout",
     "output_type": "stream",
     "text": [
      "     July 2022\n",
      "Su Mo Tu We Th Fr Sa\n",
      "                1  2\n",
      " 3  4  5  6  7  8  9\n",
      "10 11 12 13 14 15 16\n",
      "17 18 19 20 21 22 23\n",
      "24 25 26 27 28 29 30\n",
      "31\n",
      "\n"
     ]
    }
   ],
   "source": [
    "import calendar \n",
    "\n",
    "def display_calender(year,month):\n",
    "    cal.Textcalender(calendar.SUNDAY)\n",
    "    cal_str = cal.formatmonth(year,month)\n",
    "\n",
    "year = int(input(\"Enter the year : \"))\n",
    "month = int(input(\"Enter the month (1-12): \"))\n",
    "\n",
    "print(cal_str)"
   ]
  },
  {
   "cell_type": "code",
   "execution_count": null,
   "id": "5afd7f9b-7a5a-4c92-ad00-bfdf3fcfd1a8",
   "metadata": {},
   "outputs": [],
   "source": []
  },
  {
   "cell_type": "markdown",
   "id": "33e088c9-f0be-429b-aec7-4ae93367a15d",
   "metadata": {},
   "source": [
    "# Question 4"
   ]
  },
  {
   "cell_type": "code",
   "execution_count": 15,
   "id": "c767adce-4c07-49ca-a2d8-719ff54fd169",
   "metadata": {},
   "outputs": [
    {
     "name": "stdin",
     "output_type": "stream",
     "text": [
      "enter the cofficient of a :  2\n",
      "enter the cofficient of b :  2\n",
      "enter the cofficient of c :  2\n"
     ]
    },
    {
     "name": "stdout",
     "output_type": "stream",
     "text": [
      " The solutions to the equation are (-0.5+0.8660254037844386j) and (-0.5-0.8660254037844386j) \n"
     ]
    }
   ],
   "source": [
    "# write a pyhon program to solve quadratic equations\n",
    "\n",
    "import cmath\n",
    "\n",
    "a = float(input(\"enter the cofficient of a : \"))\n",
    "b = float(input(\"enter the cofficient of b : \"))\n",
    "c = float(input(\"enter the cofficient of c : \"))\n",
    "\n",
    "discriminant = b**2 - 4*a*c\n",
    "\n",
    "root1  = (-b + cmath.sqrt(discriminant)) / (2*a)\n",
    "root2 = ( -b - cmath.sqrt(discriminant)) / (2*a)\n",
    "\n",
    "print(f\" The solutions to the equation are {root1} and {root2} \")\n",
    "\n"
   ]
  },
  {
   "cell_type": "code",
   "execution_count": null,
   "id": "59bd874a-49a0-4119-81b4-1d8f4b99c9a8",
   "metadata": {},
   "outputs": [],
   "source": []
  },
  {
   "cell_type": "code",
   "execution_count": 17,
   "id": "c4946312-2e64-4ce3-9505-2fe3f55b515f",
   "metadata": {},
   "outputs": [
    {
     "name": "stdin",
     "output_type": "stream",
     "text": [
      "Enter the coefficient a:  2\n",
      "Enter the coefficient b:  2\n",
      "Enter the coefficient c:  2\n"
     ]
    },
    {
     "name": "stdout",
     "output_type": "stream",
     "text": [
      "The solutions to the equation are (-0.5+0.8660254037844386j) and (-0.5-0.8660254037844386j)\n"
     ]
    }
   ],
   "source": [
    "import cmath\n",
    "\n",
    "def solve_quadratic(a, b, c):\n",
    "    # Discriminant\n",
    "    discriminant = b**2 - 4*a*c\n",
    "    \n",
    "    # Roots calculation\n",
    "    root1 = (-b + cmath.sqrt(discriminant)) / (2*a)\n",
    "    root2 = (-b - cmath.sqrt(discriminant)) / (2*a)\n",
    "    \n",
    "    return root1, root2\n",
    "\n",
    "# Input coefficients from user\n",
    "a = float(input(\"Enter the coefficient a: \"))\n",
    "b = float(input(\"Enter the coefficient b: \"))\n",
    "c = float(input(\"Enter the coefficient c: \"))\n",
    "\n",
    "# Solve the quadratic equation\n",
    "root1, root2 = solve_quadratic(a, b, c)\n",
    "\n",
    "# Print the results\n",
    "print(f\"The solutions to the equation are {root1} and {root2}\")\n"
   ]
  },
  {
   "cell_type": "code",
   "execution_count": null,
   "id": "aae16a97-a495-4970-a658-86447af807a2",
   "metadata": {},
   "outputs": [],
   "source": []
  },
  {
   "cell_type": "markdown",
   "id": "d6ad5c22-74b6-48b9-8d3f-c4799e819560",
   "metadata": {},
   "source": [
    "# Question 5"
   ]
  },
  {
   "cell_type": "code",
   "execution_count": 1,
   "id": "960e6cc3-6e77-422f-a6cb-7ed0a74ace11",
   "metadata": {},
   "outputs": [
    {
     "name": "stdout",
     "output_type": "stream",
     "text": [
      "Here is Kunal Marks : 77\n",
      "Here is Sachin Marks : 44\n"
     ]
    }
   ],
   "source": [
    "# write a python program to swap two variables without temp variable \n",
    "kunal_marks = 44\n",
    "sachin_marks = 77\n",
    "\n",
    "kunal_marks,sachin_marks = sachin_marks,kunal_marks\n",
    "\n",
    "print(f\"Here is Kunal Marks : {kunal_marks}\")\n",
    "print(f\"Here is Sachin Marks : {sachin_marks}\")\n",
    " "
   ]
  },
  {
   "cell_type": "code",
   "execution_count": null,
   "id": "81f8e8c5-82f7-48bf-a1e0-5caaa759ccd3",
   "metadata": {},
   "outputs": [],
   "source": []
  }
 ],
 "metadata": {
  "kernelspec": {
   "display_name": "Python 3 (ipykernel)",
   "language": "python",
   "name": "python3"
  },
  "language_info": {
   "codemirror_mode": {
    "name": "ipython",
    "version": 3
   },
   "file_extension": ".py",
   "mimetype": "text/x-python",
   "name": "python",
   "nbconvert_exporter": "python",
   "pygments_lexer": "ipython3",
   "version": "3.12.7"
  }
 },
 "nbformat": 4,
 "nbformat_minor": 5
}
